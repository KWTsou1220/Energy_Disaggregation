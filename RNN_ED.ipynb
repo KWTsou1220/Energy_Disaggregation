{
 "cells": [
  {
   "cell_type": "code",
   "execution_count": 1,
   "metadata": {
    "collapsed": true
   },
   "outputs": [],
   "source": [
    "import os\n",
    "import tensorflow as tf\n",
    "import numpy as np\n",
    "import scipy.io\n",
    "import matplotlib.pyplot as plt\n",
    "import matplotlib.cm as cm\n",
    "import math\n",
    "import random\n",
    "import time\n",
    "import json\n",
    "from neural_network import recurrent_neural_network\n",
    "from ops import *\n",
    "from evaluation import evaluation"
   ]
  },
  {
   "cell_type": "code",
   "execution_count": 2,
   "metadata": {
    "collapsed": true
   },
   "outputs": [],
   "source": [
    "# training data\n",
    "channel = 'channel_13'\n",
    "t1_train = np.load('./Dataset/house1/Final/'+channel+'.npy')\n",
    "mix_train = np.load('./Dataset/house1/Final/mix.npy')\n",
    "t2_train = mix_train-t1_train"
   ]
  },
  {
   "cell_type": "code",
   "execution_count": 3,
   "metadata": {
    "collapsed": false
   },
   "outputs": [
    {
     "name": "stdout",
     "output_type": "stream",
     "text": [
      "(11323173, 2)\n"
     ]
    }
   ],
   "source": [
    "print(t1_train.shape)"
   ]
  },
  {
   "cell_type": "code",
   "execution_count": 4,
   "metadata": {
    "collapsed": false
   },
   "outputs": [],
   "source": [
    "# Setting\n",
    "input_size = 100\n",
    "architecture = {'l0':{'type':'input', 'neurons':input_size}, \n",
    "                'l1':{'type':'dense', 'neurons':500},\n",
    "                'l2':{'type':'dense', 'neurons':400},\n",
    "                'l3':{'type':'lstm', 'neurons':300},\n",
    "                'l4':{'type':'output', 'neurons':input_size},\n",
    "               }\n",
    "batch_size = 50\n",
    "time_step = 30\n",
    "LR = 0.001\n",
    "EP = 100\n",
    "activation_function = tf.contrib.keras.activations.elu\n",
    "whole_size = t1_train.shape[0] # the overall length of the energy\n",
    "# Setting for dataset\n",
    "t1_train, _ = time_batch_appen(t1_train, batch_size, time_step)\n",
    "t2_train, _ = time_batch_appen(t2_train, batch_size, time_step)\n",
    "mix_train, train_size = time_batch_appen(mix_train, batch_size, time_step)\n",
    "# Initialization\n",
    "rnn = recurrent_neural_network(architecture=architecture, time_step=time_step, batch_size=batch_size, LR=LR, \n",
    "                               activation_function=activation_function)\n",
    "init = tf.global_variables_initializer()\n",
    "sess = tf.Session()\n",
    "sess.run(init)"
   ]
  },
  {
   "cell_type": "code",
   "execution_count": 5,
   "metadata": {
    "collapsed": false
   },
   "outputs": [
    {
     "name": "stdout",
     "output_type": "stream",
     "text": [
      "(11323500, 2)\n",
      "377450.0\n"
     ]
    }
   ],
   "source": [
    "print(t1_train.shape)\n",
    "print(train_size)"
   ]
  }
 ],
 "metadata": {
  "kernelspec": {
   "display_name": "Python [Root]",
   "language": "python",
   "name": "Python [Root]"
  },
  "language_info": {
   "codemirror_mode": {
    "name": "ipython",
    "version": 3
   },
   "file_extension": ".py",
   "mimetype": "text/x-python",
   "name": "python",
   "nbconvert_exporter": "python",
   "pygments_lexer": "ipython3",
   "version": "3.5.1"
  }
 },
 "nbformat": 4,
 "nbformat_minor": 0
}
