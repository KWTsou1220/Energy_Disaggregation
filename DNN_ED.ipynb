{
 "cells": [
  {
   "cell_type": "code",
   "execution_count": 1,
   "metadata": {
    "collapsed": false
   },
   "outputs": [],
   "source": [
    "import os\n",
    "import tensorflow as tf\n",
    "import numpy as np\n",
    "import scipy.io\n",
    "import matplotlib.pyplot as plt\n",
    "import matplotlib.cm as cm\n",
    "import math\n",
    "import random\n",
    "import time\n",
    "import json\n",
    "from neural_network import neural_network\n",
    "from ops import *\n",
    "from evaluation import evaluation"
   ]
  },
  {
   "cell_type": "markdown",
   "metadata": {
    "collapsed": true
   },
   "source": [
    "# Loading Data"
   ]
  },
  {
   "cell_type": "code",
   "execution_count": 2,
   "metadata": {
    "collapsed": false
   },
   "outputs": [
    {
     "data": {
      "text/plain": [
       "\"\\ntmp = scipy.io.loadmat('./mix_test.mat')\\nmix_test = np.transpose(tmp['mix_test'])\\ntmp = scipy.io.loadmat('./source1_test.mat')\\nt1_test = np.transpose(tmp['source1_test'])\\ntmp = scipy.io.loadmat('./source2_test.mat')\\nt2_test = np.transpose(tmp['source2_test'])\\ntest_size = mix_test.shape[0]\\n\""
      ]
     },
     "execution_count": 2,
     "metadata": {},
     "output_type": "execute_result"
    }
   ],
   "source": [
    "# training data\n",
    "channel = 'channel_13'\n",
    "t1_train = np.load('./Dataset/house1/Final/'+channel+'.npy')\n",
    "mix_train = np.load('./Dataset/house1/Final/mix.npy')\n",
    "t2_train = mix_train-t1_train\n",
    "'''\n",
    "tmp = scipy.io.loadmat('./Dataset/house1/mix_train.mat')\n",
    "mix_train = np.transpose(tmp['mix_train'])\n",
    "tmp = scipy.io.loadmat('./Dataset/house1/source1_train.mat')\n",
    "t1_train = np.transpose(tmp['source1_train'])\n",
    "tmp = scipy.io.loadmat('./Dataset/house1/source2_train.mat')\n",
    "t2_train = np.transpose(tmp['source2_train'])\n",
    "train_size = mix_train.shape[0]\n",
    "'''\n",
    "\n",
    "# test data\n",
    "'''\n",
    "tmp = scipy.io.loadmat('./mix_test.mat')\n",
    "mix_test = np.transpose(tmp['mix_test'])\n",
    "tmp = scipy.io.loadmat('./source1_test.mat')\n",
    "t1_test = np.transpose(tmp['source1_test'])\n",
    "tmp = scipy.io.loadmat('./source2_test.mat')\n",
    "t2_test = np.transpose(tmp['source2_test'])\n",
    "test_size = mix_test.shape[0]\n",
    "'''"
   ]
  },
  {
   "cell_type": "markdown",
   "metadata": {},
   "source": [
    "# Setting"
   ]
  },
  {
   "cell_type": "code",
   "execution_count": 3,
   "metadata": {
    "collapsed": false
   },
   "outputs": [],
   "source": [
    "# Setting for dataset\n",
    "input_size = 100\n",
    "overlap = 50\n",
    "whole_size = t1_train.shape[0] # the overall length of the energy\n",
    "t1_train, _ = data_adjust(t1_train, input_size, overlap)\n",
    "t2_train, _ = data_adjust(t2_train, input_size, overlap)\n",
    "mix_train, train_size = data_adjust(mix_train, input_size, overlap)\n",
    "# Setting\n",
    "architecture = np.array([input_size, 1000, 1000, 1000, input_size])\n",
    "batch_size = 200\n",
    "LR = 0.001\n",
    "EP = 100\n",
    "activation_function = tf.contrib.keras.activations.elu\n",
    "# Initialization\n",
    "dnn = neural_network(architecture=architecture, batch_size=batch_size, LR=LR, activation_function=activation_function)\n",
    "init = tf.global_variables_initializer()\n",
    "sess = tf.Session()\n",
    "sess.run(init)"
   ]
  },
  {
   "cell_type": "code",
   "execution_count": 4,
   "metadata": {
    "collapsed": false
   },
   "outputs": [],
   "source": [
    "# Restore trained models\n",
    "#saver = tf.train.Saver()\n",
    "#saver.restore(sess, './Models/'+channel+'_'+str(input_size)+\".ckpt\")"
   ]
  },
  {
   "cell_type": "markdown",
   "metadata": {},
   "source": [
    "# Training for washing machine"
   ]
  },
  {
   "cell_type": "code",
   "execution_count": 5,
   "metadata": {
    "collapsed": false
   },
   "outputs": [
    {
     "name": "stdout",
     "output_type": "stream",
     "text": [
      "Epoch:  0 Training Loss:  8924.16770059 Time duration:  7.454822778701782\n",
      "Epoch:  1 Training Loss:  8025.92253317 Time duration:  7.180089950561523\n",
      "Epoch:  2 Training Loss:  7625.63647795 Time duration:  7.752001762390137\n",
      "Epoch:  3 Training Loss:  7402.11289937 Time duration:  7.977357625961304\n",
      "Epoch:  4 Training Loss:  7186.55005606 Time duration:  7.671887636184692\n",
      "Epoch:  5 Training Loss:  6969.38998931 Time duration:  7.168630123138428\n",
      "Epoch:  6 Training Loss:  6801.75985534 Time duration:  7.150536060333252\n",
      "Epoch:  7 Training Loss:  6618.70684231 Time duration:  7.100879669189453\n",
      "Epoch:  8 Training Loss:  6399.26812357 Time duration:  7.289465665817261\n",
      "Epoch:  9 Training Loss:  6191.24658372 Time duration:  7.170065879821777\n",
      "Epoch:  10 Training Loss:  6062.76529895 Time duration:  7.318460941314697\n",
      "Epoch:  11 Training Loss:  5886.68824175 Time duration:  7.478884696960449\n",
      "Epoch:  12 Training Loss:  5792.28181356 Time duration:  7.917570114135742\n",
      "Epoch:  13 Training Loss:  5626.79420317 Time duration:  7.805914640426636\n",
      "Epoch:  14 Training Loss:  5497.58531164 Time duration:  7.412585735321045\n",
      "Epoch:  15 Training Loss:  5371.55065306 Time duration:  7.324476957321167\n",
      "Epoch:  16 Training Loss:  5183.28394942 Time duration:  7.3034210205078125\n",
      "Epoch:  17 Training Loss:  5160.6798458 Time duration:  7.180107116699219\n",
      "Epoch:  18 Training Loss:  4962.4368473 Time duration:  7.255292892456055\n",
      "Epoch:  19 Training Loss:  4843.72350906 Time duration:  7.221202850341797\n",
      "Epoch:  20 Training Loss:  4830.36681175 Time duration:  7.206189870834351\n",
      "Epoch:  21 Training Loss:  4702.89324755 Time duration:  7.487884044647217\n",
      "Epoch:  22 Training Loss:  4549.26883576 Time duration:  7.601003408432007\n",
      "Epoch:  23 Training Loss:  4512.66056362 Time duration:  7.648516893386841\n",
      "Epoch:  24 Training Loss:  4353.71866137 Time duration:  7.744079351425171\n",
      "Epoch:  25 Training Loss:  4253.48677139 Time duration:  7.973312854766846\n",
      "Epoch:  26 Training Loss:  4169.35370888 Time duration:  7.888309478759766\n",
      "Epoch:  27 Training Loss:  4043.69802487 Time duration:  7.834059953689575\n",
      "Epoch:  28 Training Loss:  3968.33967913 Time duration:  7.745353937149048\n",
      "Epoch:  29 Training Loss:  3884.03912136 Time duration:  7.676446914672852\n",
      "Epoch:  30 Training Loss:  3795.11492182 Time duration:  7.666805982589722\n",
      "Epoch:  31 Training Loss:  4392.66744573 Time duration:  7.72587251663208\n",
      "Epoch:  32 Training Loss:  5416.70213126 Time duration:  7.6613709926605225\n",
      "Epoch:  33 Training Loss:  5480.54354651 Time duration:  7.700307607650757\n",
      "Epoch:  34 Training Loss:  4980.74829401 Time duration:  7.665572881698608\n",
      "Epoch:  35 Training Loss:  4200.44143702 Time duration:  7.684338092803955\n",
      "Epoch:  36 Training Loss:  3894.72715554 Time duration:  7.699533224105835\n",
      "Epoch:  37 Training Loss:  3835.08063023 Time duration:  7.676235198974609\n",
      "Epoch:  38 Training Loss:  3606.07062374 Time duration:  7.725716590881348\n",
      "Epoch:  39 Training Loss:  3637.38568585 Time duration:  7.673418045043945\n",
      "Epoch:  40 Training Loss:  3447.54570968 Time duration:  7.6858861446380615\n",
      "Epoch:  41 Training Loss:  3381.72923333 Time duration:  7.772854566574097\n",
      "Epoch:  42 Training Loss:  3325.68293082 Time duration:  7.631901264190674\n",
      "Epoch:  43 Training Loss:  3224.73361365 Time duration:  7.6446003913879395\n",
      "Epoch:  44 Training Loss:  3163.71914288 Time duration:  7.678187370300293\n",
      "Epoch:  45 Training Loss:  3025.6985126 Time duration:  7.745985269546509\n",
      "Epoch:  46 Training Loss:  3021.08621277 Time duration:  7.810522794723511\n",
      "Epoch:  47 Training Loss:  2943.53433871 Time duration:  7.772852897644043\n",
      "Epoch:  48 Training Loss:  2883.11587434 Time duration:  7.546941041946411\n",
      "Epoch:  49 Training Loss:  2806.29562968 Time duration:  7.238732099533081\n",
      "Epoch:  50 Training Loss:  2659.55159798 Time duration:  7.316463947296143\n",
      "Epoch:  51 Training Loss:  2800.25742275 Time duration:  7.254091024398804\n",
      "Epoch:  52 Training Loss:  2632.6992471 Time duration:  7.305424928665161\n",
      "Epoch:  53 Training Loss:  2630.47990929 Time duration:  7.2102015018463135\n",
      "Epoch:  54 Training Loss:  2546.1257393 Time duration:  7.25827431678772\n",
      "Epoch:  55 Training Loss:  2582.44426427 Time duration:  7.234345436096191\n",
      "Epoch:  56 Training Loss:  2448.00389465 Time duration:  7.193127393722534\n",
      "Epoch:  57 Training Loss:  2606.56572045 Time duration:  7.23832631111145\n",
      "Epoch:  58 Training Loss:  2604.42173649 Time duration:  7.23426628112793\n",
      "Epoch:  59 Training Loss:  2392.25329344 Time duration:  7.209140777587891\n",
      "Epoch:  60 Training Loss:  2246.8084953 Time duration:  7.212212085723877\n",
      "Epoch:  61 Training Loss:  2316.4977756 Time duration:  7.220172643661499\n",
      "Epoch:  62 Training Loss:  2286.44155546 Time duration:  7.205160140991211\n",
      "Epoch:  63 Training Loss:  2399.92069156 Time duration:  7.223207712173462\n",
      "Epoch:  64 Training Loss:  2182.51095892 Time duration:  7.219196557998657\n",
      "Epoch:  65 Training Loss:  2209.25511258 Time duration:  7.239250659942627\n",
      "Epoch:  66 Training Loss:  2193.75476849 Time duration:  7.225223779678345\n",
      "Epoch:  67 Training Loss:  2302.85303156 Time duration:  7.207154035568237\n",
      "Epoch:  68 Training Loss:  2056.13261318 Time duration:  7.229223728179932\n",
      "Epoch:  69 Training Loss:  2082.3294376 Time duration:  7.224226951599121\n",
      "Epoch:  70 Training Loss:  2003.57401455 Time duration:  7.219180345535278\n",
      "Epoch:  71 Training Loss:  2071.67418205 Time duration:  7.205159425735474\n",
      "Epoch:  72 Training Loss:  2058.92843151 Time duration:  7.19112229347229\n",
      "Epoch:  73 Training Loss:  2032.58781919 Time duration:  7.215186357498169\n",
      "Epoch:  74 Training Loss:  2013.6029571 Time duration:  7.227218389511108\n",
      "Epoch:  75 Training Loss:  1910.40958308 Time duration:  7.205159664154053\n",
      "Epoch:  76 Training Loss:  1846.57029547 Time duration:  7.224210023880005\n",
      "Epoch:  77 Training Loss:  1980.22401824 Time duration:  7.195133924484253\n",
      "Epoch:  78 Training Loss:  1879.6366496 Time duration:  7.212177991867065\n",
      "Epoch:  79 Training Loss:  1902.05224167 Time duration:  7.230254173278809\n",
      "Epoch:  80 Training Loss:  1763.14950428 Time duration:  7.205131769180298\n",
      "Epoch:  81 Training Loss:  1777.49240794 Time duration:  7.248274803161621\n",
      "Epoch:  82 Training Loss:  1992.45013618 Time duration:  7.25832986831665\n",
      "Epoch:  83 Training Loss:  1720.98049062 Time duration:  7.2151572704315186\n",
      "Epoch:  84 Training Loss:  1787.60993763 Time duration:  7.2152416706085205\n",
      "Epoch:  85 Training Loss:  1653.65353901 Time duration:  7.220199823379517\n",
      "Epoch:  86 Training Loss:  1654.20850344 Time duration:  7.202242612838745\n",
      "Epoch:  87 Training Loss:  1801.40004857 Time duration:  7.186109304428101\n",
      "Epoch:  88 Training Loss:  1690.9913703 Time duration:  7.223207712173462\n",
      "Epoch:  89 Training Loss:  1774.23921763 Time duration:  7.2101731300354\n",
      "Epoch:  90 Training Loss:  1549.63484841 Time duration:  7.207164764404297\n",
      "Epoch:  91 Training Loss:  1682.59254567 Time duration:  7.218194484710693\n",
      "Epoch:  92 Training Loss:  1699.58465605 Time duration:  7.241255521774292\n",
      "Epoch:  93 Training Loss:  1588.89182687 Time duration:  7.224208831787109\n",
      "Epoch:  94 Training Loss:  1529.65291382 Time duration:  7.263346195220947\n",
      "Epoch:  95 Training Loss:  1581.33485207 Time duration:  7.219165563583374\n",
      "Epoch:  96 Training Loss:  1609.23302468 Time duration:  7.221202373504639\n",
      "Epoch:  97 Training Loss:  1545.94428047 Time duration:  7.233234405517578\n",
      "Epoch:  98 Training Loss:  1666.71191399 Time duration:  7.176082372665405\n",
      "Epoch:  99 Training Loss:  1548.25801447 Time duration:  7.225213050842285\n",
      "----------------End-----------------\n"
     ]
    }
   ],
   "source": [
    "MSE_train = []\n",
    "MSE_test  = []\n",
    "total_loss = 0\n",
    "for ep in range(EP):\n",
    "    start = time.time()\n",
    "    # ------------------Training------------------\n",
    "    shuffle = [i for i in range(train_size)]\n",
    "    np.random.shuffle(shuffle)\n",
    "    shuffle = shuffle_append(shuffle, train_size, batch_size)\n",
    "    \n",
    "    for idx in range(math.ceil(train_size/batch_size)):\n",
    "        # input at the currenct iteration\n",
    "        t1, t2, mix = get_batch(t1_train, t2_train, mix_train, shuffle[idx*batch_size:(idx+1)*batch_size], input_size, overlap)\n",
    "        \n",
    "        feed_dict = {\n",
    "            dnn.mix: mix,\n",
    "            dnn.t1: t1,\n",
    "            dnn.t2: t2\n",
    "        }\n",
    "        \n",
    "        # update parameters\n",
    "        _, loss = sess.run([dnn.train_op, dnn.loss], feed_dict)\n",
    "        total_loss = total_loss + loss\n",
    "    total_loss = total_loss/(train_size/batch_size)\n",
    "    MSE_train.append(total_loss)\n",
    "    total_loss = 0\n",
    "    '''\n",
    "    # ------------------Testing------------------\n",
    "    for idx in range(int(test_size/batch_size)):\n",
    "        # input at the currenct iteration\n",
    "        feed_dict = {\n",
    "            dnn.mix: mix_test[idx*batch_size:(idx+1)*batch_size-1, :],\n",
    "            dnn.t1: t1_test[idx*batch_size:(idx+1)*batch_size-1, :],\n",
    "            dnn.t2: t2_test[idx*batch_size:(idx+1)*batch_size-1, :]\n",
    "        }\n",
    "        \n",
    "        # update parameters\n",
    "        loss = sess.run(dnn.loss, feed_dict)\n",
    "        total_loss = total_loss + loss\n",
    "    total_loss = total_loss/(test_size/batch_size)\n",
    "    MSE_test.append(total_loss)\n",
    "    total_loss = 0\n",
    "    '''\n",
    "    end = time.time()\n",
    "    # ------------------Print------------------\n",
    "    #print('Epoch: ', ep, 'Training Loss: ', MSE_train[-1], 'Testing Loss: ', MSE_test[-1], 'Time duration: ', end-start)\n",
    "    print('Epoch: ', ep, 'Training Loss: ', MSE_train[-1], 'Time duration: ', end-start)\n",
    "            \n",
    "print('----------------End-----------------')"
   ]
  },
  {
   "cell_type": "code",
   "execution_count": 6,
   "metadata": {
    "collapsed": false
   },
   "outputs": [
    {
     "data": {
      "image/png": "[encoded data removed]",
      "text/plain": [
       "<matplotlib.figure.Figure at 0x237803aec50>"
      ]
     },
     "metadata": {},
     "output_type": "display_data"
    }
   ],
   "source": [
    "%matplotlib inline\n",
    "fig = plt.figure()\n",
    "ax  = fig.add_subplot(1, 1, 1)\n",
    "\n",
    "ax.plot(MSE_train, linewidth=2)\n",
    "plt.ion()\n",
    "ax.plot(MSE_test, linewidth=2)\n",
    "plt.show()"
   ]
  },
  {
   "cell_type": "markdown",
   "metadata": {},
   "source": [
    "# Result"
   ]
  },
  {
   "cell_type": "code",
   "execution_count": 7,
   "metadata": {
    "collapsed": false
   },
   "outputs": [],
   "source": [
    "y1_train = []\n",
    "y2_train = []\n",
    "shuffle = [i for i in range(math.ceil(t1_train.shape[0]/input_size))]\n",
    "shuffle = shuffle_append(shuffle, math.ceil(t1_train.shape[0]/input_size), batch_size)\n",
    "for idx in range(math.ceil(train_size/batch_size)):\n",
    "    _, _, mix = get_batch(t1_train, t2_train, mix_train, shuffle[idx*batch_size:(idx+1)*batch_size], input_size, input_size)\n",
    "    feed_dict = {dnn.mix: mix}\n",
    "    y1, y2 = sess.run([dnn.y1, dnn.y2], feed_dict)\n",
    "    y1_train = y1_train + [y1]\n",
    "    y2_train = y2_train + [y2]\n",
    "y1_train, y2_train = unpack(y1_train, y2_train, input_size, whole_size)"
   ]
  },
  {
   "cell_type": "code",
   "execution_count": 8,
   "metadata": {
    "collapsed": false
   },
   "outputs": [
    {
     "data": {
      "text/plain": [
       "[<matplotlib.lines.Line2D at 0x238c62f86a0>]"
      ]
     },
     "execution_count": 8,
     "metadata": {},
     "output_type": "execute_result"
    },
    {
     "data": {
      "image/png": "[encoded data removed]",
      "text/plain": [
       "<matplotlib.figure.Figure at 0x238944fccc0>"
      ]
     },
     "metadata": {},
     "output_type": "display_data"
    }
   ],
   "source": [
    "%matplotlib inline\n",
    "fig = plt.figure()\n",
    "fig = plt.gcf()\n",
    "fig.set_size_inches(20, 12.5)\n",
    "ax  = [fig.add_subplot(4, 1, i) for i in range(1, 5)]\n",
    "ax[0].plot(y1_train[1000000:1020000], linewidth=1, label='estimate')\n",
    "ax[1].plot(t1_train[1000000:1020000, 1], linewidth=1, label='target1')\n",
    "ax[2].plot(y2_train[1000000:1020000], linewidth=1, label='noise')\n",
    "ax[3].plot(mix_train[1000000:1020000, 1], linewidth=1, label='mix')"
   ]
  },
  {
   "cell_type": "markdown",
   "metadata": {},
   "source": [
    "# Saving"
   ]
  },
  {
   "cell_type": "code",
   "execution_count": 9,
   "metadata": {
    "collapsed": false
   },
   "outputs": [],
   "source": [
    "# Save the model\n",
    "saver = tf.train.Saver()\n",
    "save_path = saver.save(sess, './Models/'+channel+'_'+str(input_size)+\".ckpt\")\n",
    "\n",
    "# Save the numpy mat\n",
    "np.save('./Prediction/'+channel+'_'+str(input_size)+'.npy', np.array(y1_train))"
   ]
  },
  {
   "cell_type": "markdown",
   "metadata": {},
   "source": [
    "# Evaluation"
   ]
  },
  {
   "cell_type": "code",
   "execution_count": 10,
   "metadata": {
    "collapsed": false
   },
   "outputs": [
    {
     "name": "stdout",
     "output_type": "stream",
     "text": [
      "Relative error in total energy 0.0327168588917\n",
      "Mean absolute error 0.556163117758\n",
      "Proportion of total energy correctly assigned 0.983686942954\n"
     ]
    }
   ],
   "source": [
    "orig = np.load('./Dataset/house1/Final/'+channel+'.npy')\n",
    "pred = np.load('./Prediction/'+channel+'_'+str(input_size)+'.npy')\n",
    "aggre = np.load('./Dataset/house1/Final/mix.npy')\n",
    "RETE, MAE, PTECA = evaluation(orig=orig[:, 1], pred=pred, aggre=aggre[:, 1])\n",
    "print('Relative error in total energy', RETE)\n",
    "print('Mean absolute error', MAE)\n",
    "print('Proportion of total energy correctly assigned', PTECA)"
   ]
  }
 ],
 "metadata": {
  "anaconda-cloud": {},
  "kernelspec": {
   "display_name": "Python [Root]",
   "language": "python",
   "name": "Python [Root]"
  },
  "language_info": {
   "codemirror_mode": {
    "name": "ipython",
    "version": 3
   },
   "file_extension": ".py",
   "mimetype": "text/x-python",
   "name": "python",
   "nbconvert_exporter": "python",
   "pygments_lexer": "ipython3",
   "version": "3.5.1"
  }
 },
 "nbformat": 4,
 "nbformat_minor": 0
}
